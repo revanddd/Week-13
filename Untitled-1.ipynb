{
 "cells": [
  {
   "cell_type": "code",
   "execution_count": 1,
   "metadata": {},
   "outputs": [
    {
     "name": "stdout",
     "output_type": "stream",
     "text": [
      "Masukkan 5 nama aplikasi di kategori Finance\n",
      "Masukkan 5 nama aplikasi di kategori Payment\n",
      "Data Aplikasi per Kategori: {'Finance': ['RTI Saham', 'Mirae', 'Crypto', 'Calculator', 'Bitcoin'], 'Payment': ['Mbanking', 'Crypto', 'BCA Mobile', 'Bitcoin', 'Gopay']}\n",
      "Daftar Aplikasi (setiap kategori): [{'Calculator', 'RTI Saham', 'Bitcoin', 'Mirae', 'Crypto'}, {'Bitcoin', 'BCA Mobile', 'Mbanking', 'Gopay', 'Crypto'}]\n",
      "Aplikasi yang muncul di semua kategori: {'Crypto', 'Bitcoin'}\n",
      "Aplikasi yang hanya muncul di satu kategori: {'Calculator', 'BCA Mobile', 'Gopay', 'RTI Saham', 'Mbanking', 'Mirae'}\n",
      "Aplikasi yang muncul tepat di dua kategori: {'Crypto', 'Bitcoin'}\n"
     ]
    }
   ],
   "source": [
    "n = int(input('Masukkan jumlah kategori: '))\n",
    "\n",
    "data_aplikasi = {}\n",
    "\n",
    "for i in range(n):\n",
    "    nama_kategori = input('Masukkan nama kategori: ')\n",
    "    print('Masukkan 5 nama aplikasi di kategori', nama_kategori)\n",
    "    aplikasi = []\n",
    "    for j in range(5):\n",
    "        nama_aplikasi = input('Nama aplikasi: ')\n",
    "        aplikasi.append(nama_aplikasi)\n",
    "    data_aplikasi[nama_kategori] = aplikasi\n",
    "\n",
    "print(\"Data Aplikasi per Kategori:\", data_aplikasi)\n",
    "\n",
    "daftar_aplikasi_list = []\n",
    "for aplikasi in data_aplikasi.values():\n",
    "    daftar_aplikasi_list.append(set(aplikasi))\n",
    "\n",
    "print(\"Daftar Aplikasi (setiap kategori):\", daftar_aplikasi_list)\n",
    "\n",
    "hasil = daftar_aplikasi_list[0]\n",
    "for i in range(1, len(daftar_aplikasi_list)):\n",
    "    hasil = hasil.intersection(daftar_aplikasi_list[i])\n",
    "print(\"Aplikasi yang muncul di semua kategori:\", hasil)\n",
    "\n",
    "aplikasi_hanya_di_satu_kategori = set()\n",
    "semua_aplikasi = set()\n",
    "aplikasi_lebih_dari_satu_kategori = set()\n",
    "\n",
    "for aplikasi_set in daftar_aplikasi_list:\n",
    "    for aplikasi in aplikasi_set:\n",
    "        if aplikasi in semua_aplikasi:\n",
    "            aplikasi_lebih_dari_satu_kategori.add(aplikasi)\n",
    "        semua_aplikasi.add(aplikasi)\n",
    "\n",
    "for aplikasi_set in daftar_aplikasi_list:\n",
    "    aplikasi_hanya_di_satu_kategori.update(aplikasi_set - aplikasi_lebih_dari_satu_kategori)\n",
    "\n",
    "print(\"Aplikasi yang hanya muncul di satu kategori:\", aplikasi_hanya_di_satu_kategori)\n",
    "\n",
    "from collections import Counter\n",
    "\n",
    "counter = Counter()\n",
    "for aplikasi_set in daftar_aplikasi_list:\n",
    "    counter.update(aplikasi_set)\n",
    "\n",
    "aplikasi_di_dua_kategori = {app for app, count in counter.items() if count == 2}\n",
    "\n",
    "print(\"Aplikasi yang muncul tepat di dua kategori:\", aplikasi_di_dua_kategori)"
   ]
  },
  {
   "cell_type": "code",
   "execution_count": 4,
   "metadata": {},
   "outputs": [
    {
     "name": "stdout",
     "output_type": "stream",
     "text": [
      "List sebelum konversi: [1, 2, 3, 4, 5, 1, 2]\n",
      "Set setelah konversi dari List: {1, 2, 3, 4, 5}\n",
      "Set sebelum konversi: {1, 2, 3, 4, 5}\n",
      "List setelah konversi dari Set: [1, 2, 3, 4, 5]\n",
      "Tuple sebelum konversi: (1, 2, 3, 4, 5, 1, 2)\n",
      "Set setelah konversi dari Tuple: {1, 2, 3, 4, 5}\n",
      "Set sebelum konversi: {1, 2, 3, 4, 5}\n",
      "Tuple setelah konversi dari Set: (1, 2, 3, 4, 5)\n"
     ]
    }
   ],
   "source": [
    "# List menjadi Set\n",
    "list_data = [1, 2, 3, 4, 5, 1, 2]\n",
    "print(\"List sebelum konversi:\", list_data)\n",
    "\n",
    "set_data_from_list = set(list_data)\n",
    "print(\"Set setelah konversi dari List:\", set_data_from_list)\n",
    "\n",
    "# Set menjadi List\n",
    "set_data = {1, 2, 3, 4, 5}\n",
    "print(\"Set sebelum konversi:\", set_data)\n",
    "\n",
    "list_data_from_set = list(set_data)\n",
    "print(\"List setelah konversi dari Set:\", list_data_from_set)\n",
    "\n",
    "# Tuple menjadi Set\n",
    "tuple_data = (1, 2, 3, 4, 5, 1, 2)\n",
    "print(\"Tuple sebelum konversi:\", tuple_data)\n",
    "\n",
    "set_data_from_tuple = set(tuple_data)\n",
    "print(\"Set setelah konversi dari Tuple:\", set_data_from_tuple)\n",
    "\n",
    "# Set menjadi Tuple\n",
    "set_data_for_tuple = {1, 2, 3, 4, 5}\n",
    "print(\"Set sebelum konversi:\", set_data_for_tuple)\n",
    "\n",
    "tuple_data_from_set = tuple(set_data_for_tuple)\n",
    "print(\"Tuple setelah konversi dari Set:\", tuple_data_from_set)"
   ]
  },
  {
   "cell_type": "code",
   "execution_count": 6,
   "metadata": {},
   "outputs": [
    {
     "name": "stdout",
     "output_type": "stream",
     "text": [
      "Kata-kata yang muncul di kedua file:\n",
      "{'semua', 'yang', 'tak', 'kau', 'ada', 'di', 'lagi', 'aku', 'untuk'}\n"
     ]
    }
   ],
   "source": [
    "def baca_kata_dari_file(nama_file):\n",
    "    try:\n",
    "        with open(nama_file, 'r') as file:\n",
    "            isi = file.read().lower()\n",
    "            return set(isi.split())\n",
    "    except FileNotFoundError:\n",
    "        print(f\"Error: File '{nama_file}' tidak ditemukan atau tidak bisa dibaca.\")\n",
    "        return set()\n",
    "\n",
    "nama_file1 = input(\"Masukkan nama file pertama: \")\n",
    "nama_file2 = input(\"Masukkan nama file kedua: \")\n",
    "\n",
    "kata_set1 = baca_kata_dari_file(nama_file1)\n",
    "kata_set2 = baca_kata_dari_file(nama_file2)\n",
    "\n",
    "kata_kedua_file = kata_set1 & kata_set2\n",
    "\n",
    "if kata_kedua_file:\n",
    "    print(\"Kata-kata yang muncul di kedua file:\")\n",
    "    print(kata_kedua_file)\n",
    "else:\n",
    "    print(\"Tidak ada kata yang muncul di kedua file.\")"
   ]
  }
 ],
 "metadata": {
  "kernelspec": {
   "display_name": "Python 3",
   "language": "python",
   "name": "python3"
  },
  "language_info": {
   "codemirror_mode": {
    "name": "ipython",
    "version": 3
   },
   "file_extension": ".py",
   "mimetype": "text/x-python",
   "name": "python",
   "nbconvert_exporter": "python",
   "pygments_lexer": "ipython3",
   "version": "3.12.0"
  }
 },
 "nbformat": 4,
 "nbformat_minor": 2
}
